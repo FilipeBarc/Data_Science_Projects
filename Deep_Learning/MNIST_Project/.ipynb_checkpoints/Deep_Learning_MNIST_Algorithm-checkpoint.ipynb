{
 "cells": [
  {
   "cell_type": "markdown",
   "id": "84b783dc",
   "metadata": {},
   "source": [
    "#####  I used a database of 70000 handwritten digits with 10 classes from 0 to 9. MNIST Algorithm takes it as input in image and correctly determine whith number are shown in that image. "
   ]
  },
  {
   "cell_type": "code",
   "execution_count": 22,
   "id": "9a48817a",
   "metadata": {},
   "outputs": [],
   "source": [
    "import numpy as np\n",
    "import tensorflow as tf\n",
    "import tensorflow_datasets as tfds\n",
    "import keras"
   ]
  },
  {
   "cell_type": "markdown",
   "id": "0b85af41",
   "metadata": {},
   "source": [
    "### Data"
   ]
  },
  {
   "cell_type": "code",
   "execution_count": 17,
   "id": "fdfe80a4",
   "metadata": {},
   "outputs": [],
   "source": [
    "# Acquaring the data from tensorflow data sets, load \"as_supervised=True, this will load the dataset in a 2-tuple -\n",
    "# structure, input and target. 'with_info=True' stored in a variable 'mnist_info' a tuple with info about the version,\n",
    "# features and number of samples of the dataset.\n",
    "mnist_dataset,mnist_info = tfds.load(name='mnist',with_info=True, as_supervised=True)\n",
    "\n",
    "# Splinting the data in train and test.\n",
    "mnist_train, mnist_test = mnist_dataset['train'], mnist_dataset['test']\n",
    "\n",
    "# Tensorflow as no validation dataset, this splits the data train using 10% to data validation.\n",
    "# I used 'mnist_info' as it is readily available info and num_examples to get the number of examples.\n",
    "num_validation_samples = 0.1 * mnist_info.splits['train'].num_examples\n",
    "\n",
    "# To cast the validation samples as an integers \n",
    "num_validation_samples = tf.cast(num_validation_samples, tf.int64)\n",
    "\n",
    "# Storing the number of test samples in a variable\n",
    "num_test_samples = mnist_info.splits['test'].num_examples\n",
    "\n",
    "# To cast the test samples as an integers \n",
    "num_test_samples = tf.cast(num_test_samples, tf.int64)\n",
    "\n",
    "# Function created to scale the data to make the result more numerically stable, with inputs between 0 and 1.\n",
    "def scale(image, label):\n",
    "    \n",
    "    # Making all values into a float \n",
    "    image = tf.cast(image, tf.float32)\n",
    "    \n",
    "    # Dividing for 255 to make the values between 0 and 1 and dot at the end to make it a float\n",
    "    image /= 255.\n",
    "    return image, label\n",
    "\n",
    "# Creating a variable with the scaled train and validation using map which allows to apply a custom transformation -\n",
    "# to a given dataset.\n",
    "scaled_train_and_validation_data = mnist_train.map(scale)\n",
    "\n",
    "# Creating a variable with the scaled test using map which allows to apply a custom transformation to a given dataset.\n",
    "test_data = mnist_test.map(scale)\n",
    "\n",
    "# Defining a buffer size used in cases of enourmous data sets, because we cannot shuffle it all.\n",
    "BUFFER_SIZE = 10000\n",
    "\n",
    "# Using a shuffle method and storing in a variable.\n",
    "shuffled_train_and_validation_data = scaled_train_and_validation_data.shuffle(BUFFER_SIZE)\n",
    "\n",
    "# Extracting the validation data\n",
    "validation_data = shuffled_train_and_validation_data.take(num_validation_samples)\n",
    "\n",
    "# Extracting the train data\n",
    "train_data = shuffled_train_and_validation_data.skip(num_validation_samples)\n",
    "\n",
    "# Creating a batch size\n",
    "BATCH_SIZE = 100\n",
    "\n",
    "# Using a method that combines the elements of a dataset into batches\n",
    "train_data = train_data.batch(BATCH_SIZE)\n",
    "\n",
    "# There is no need to create batches in validation data because I wont be back propagating on it.\n",
    "# Instead I crated only one batch for the number of validation samples.\n",
    "validation_data = validation_data.batch(num_validation_samples)\n",
    "\n",
    "# There is no need to create batches in test data because I wont be back propagating on it.\n",
    "# Instead I crated only one batch for the number of test samples.\n",
    "test_data = test_data.batch(num_test_samples)\n",
    "\n",
    "# Extracting and converting the validation inputs and targets because the validation data must have the same shape\n",
    "# and object properties as train and test data.\n",
    "# 'iter' makes the validation data an iterator\n",
    "# 'next' will load the next batch, since there is only one batch it will load the inputs and the targets \n",
    "validation_inputs, validation_targets = next(iter(validation_data))\n"
   ]
  },
  {
   "cell_type": "markdown",
   "id": "514ac32b",
   "metadata": {},
   "source": [
    "### Model"
   ]
  },
  {
   "cell_type": "code",
   "execution_count": 18,
   "id": "349ba17d",
   "metadata": {},
   "outputs": [],
   "source": [
    "# Declaring variables for width of the inputs, outputs and hidden layers.\n",
    "input_size = 784\n",
    "output_size = 10\n",
    "hidden_layer_size = 100\n",
    "\n",
    "# Defining the actual model\n",
    "model = tf.keras.Sequential([\n",
    "                          # Using the method 'flatten' to flatten the images into a vector.\n",
    "                          tf.keras.layers.Flatten(input_shape=(28,28,1)),\n",
    "                          # Biulding the neural network. It takes the inputs provided to the model and calculates\n",
    "                          # the inputs and weights dot product and adds the bias. Also applies the activation function.\n",
    "                          tf.keras.layers.Dense(hidden_layer_size,activation='relu'),\n",
    "                          # Creating a second hidden layer with the activation function.\n",
    "                          tf.keras.layers.Dense(hidden_layer_size,activation='relu'),\n",
    "                          # Creating the output layer. Because this program is a classifier, activation function of the\n",
    "                          # output layer must transforme the values into probabilities, for that I used 'SoftMax'\n",
    "                          tf.keras.layers.Dense(output_size,activation='softmax')\n",
    "                         ])"
   ]
  },
  {
   "cell_type": "markdown",
   "id": "c292b147",
   "metadata": {},
   "source": [
    "### Optimizer and loss function"
   ]
  },
  {
   "cell_type": "code",
   "execution_count": 19,
   "id": "7e8b2b31",
   "metadata": {},
   "outputs": [],
   "source": [
    "# Creating the optimizer and loss function, for optimazer I defined 'Adam'.\n",
    "# Loss has to be for classifiers, then I defined 'sparse_categorical_crossentropy' -\n",
    "# because I did not one-hot encoded the targets\n",
    "# Including metrics to calculate throughout the training and testing processes.\n",
    "model.compile(optimizer='adam',loss='sparse_categorical_crossentropy',metrics=['accuracy'])"
   ]
  },
  {
   "cell_type": "markdown",
   "id": "5d45c253",
   "metadata": {},
   "source": [
    "### Training"
   ]
  },
  {
   "cell_type": "code",
   "execution_count": 20,
   "id": "0218baaa",
   "metadata": {},
   "outputs": [
    {
     "name": "stdout",
     "output_type": "stream",
     "text": [
      "Epoch 1/20\n",
      "540/540 - 6s - loss: 0.3357 - accuracy: 0.9020 - val_loss: 0.1671 - val_accuracy: 0.9523 - 6s/epoch - 11ms/step\n",
      "Epoch 2/20\n",
      "540/540 - 3s - loss: 0.1387 - accuracy: 0.9587 - val_loss: 0.1208 - val_accuracy: 0.9638 - 3s/epoch - 6ms/step\n",
      "Epoch 3/20\n",
      "540/540 - 3s - loss: 0.0967 - accuracy: 0.9716 - val_loss: 0.0898 - val_accuracy: 0.9735 - 3s/epoch - 6ms/step\n",
      "Epoch 4/20\n",
      "540/540 - 3s - loss: 0.0734 - accuracy: 0.9773 - val_loss: 0.0802 - val_accuracy: 0.9770 - 3s/epoch - 6ms/step\n",
      "Epoch 5/20\n",
      "540/540 - 3s - loss: 0.0592 - accuracy: 0.9814 - val_loss: 0.0758 - val_accuracy: 0.9785 - 3s/epoch - 5ms/step\n",
      "Epoch 6/20\n",
      "540/540 - 3s - loss: 0.0498 - accuracy: 0.9846 - val_loss: 0.0687 - val_accuracy: 0.9803 - 3s/epoch - 6ms/step\n",
      "Epoch 7/20\n",
      "540/540 - 3s - loss: 0.0421 - accuracy: 0.9871 - val_loss: 0.0503 - val_accuracy: 0.9855 - 3s/epoch - 6ms/step\n",
      "Epoch 8/20\n",
      "540/540 - 3s - loss: 0.0342 - accuracy: 0.9898 - val_loss: 0.0498 - val_accuracy: 0.9867 - 3s/epoch - 6ms/step\n",
      "Epoch 9/20\n",
      "540/540 - 3s - loss: 0.0307 - accuracy: 0.9903 - val_loss: 0.0390 - val_accuracy: 0.9897 - 3s/epoch - 6ms/step\n",
      "Epoch 10/20\n",
      "540/540 - 3s - loss: 0.0253 - accuracy: 0.9923 - val_loss: 0.0427 - val_accuracy: 0.9878 - 3s/epoch - 6ms/step\n"
     ]
    },
    {
     "data": {
      "text/plain": [
       "<keras.callbacks.History at 0x278c4340f90>"
      ]
     },
     "execution_count": 20,
     "metadata": {},
     "output_type": "execute_result"
    }
   ],
   "source": [
    "# Creating a variable to store the number of epoch\n",
    "NUM_EPOCHS = 20\n",
    "\n",
    "# Defining a early stopping in the algorithm to stop before the overfitting, setting patience to 2\n",
    "# to avoid an excessive restriction\n",
    "early_stopping = tf.keras.callbacks.EarlyStopping(patience=1)\n",
    "\n",
    "# Fitting the model\n",
    "model.fit(train_data,\n",
    "          epochs=NUM_EPOCHS,\n",
    "          callbacks=[early_stopping],\n",
    "          validation_data=(validation_inputs,validation_targets),\n",
    "          verbose=2\n",
    "         )"
   ]
  },
  {
   "cell_type": "markdown",
   "id": "97db8360",
   "metadata": {},
   "source": [
    "### Test"
   ]
  },
  {
   "cell_type": "code",
   "execution_count": 21,
   "id": "28e4f57f",
   "metadata": {},
   "outputs": [
    {
     "name": "stdout",
     "output_type": "stream",
     "text": [
      "1/1 [==============================] - 1s 678ms/step - loss: 0.0820 - accuracy: 0.9771\n"
     ]
    }
   ],
   "source": [
    "# Testing the model, it returns the loss and metrics for the model in 'test_mode'\n",
    "test_loss, test_accuracy = model.evaluate(test_data)"
   ]
  },
  {
   "cell_type": "code",
   "execution_count": null,
   "id": "2240fe29",
   "metadata": {},
   "outputs": [],
   "source": []
  }
 ],
 "metadata": {
  "kernelspec": {
   "display_name": "Python [conda env:py3-TF2.0]",
   "language": "python",
   "name": "conda-env-py3-TF2.0-py"
  },
  "language_info": {
   "codemirror_mode": {
    "name": "ipython",
    "version": 3
   },
   "file_extension": ".py",
   "mimetype": "text/x-python",
   "name": "python",
   "nbconvert_exporter": "python",
   "pygments_lexer": "ipython3",
   "version": "3.10.10"
  }
 },
 "nbformat": 4,
 "nbformat_minor": 5
}
